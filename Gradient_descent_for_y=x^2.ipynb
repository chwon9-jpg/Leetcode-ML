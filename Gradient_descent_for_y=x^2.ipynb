{
  "cells": [
    {
      "cell_type": "code",
      "execution_count": 1,
      "metadata": {
        "id": "YepHK1upb4hI"
      },
      "outputs": [
        {
          "ename": "ValueError",
          "evalue": "invalid literal for int() with base 10: ''",
          "output_type": "error",
          "traceback": [
            "\u001b[31m---------------------------------------------------------------------------\u001b[39m",
            "\u001b[31mValueError\u001b[39m                                Traceback (most recent call last)",
            "\u001b[36mCell\u001b[39m\u001b[36m \u001b[39m\u001b[32mIn[1]\u001b[39m\u001b[32m, line 15\u001b[39m\n\u001b[32m     12\u001b[39m \u001b[38;5;28;01mdef\u001b[39;00m\u001b[38;5;250m \u001b[39m\u001b[34mderivativefunction\u001b[39m(x):\n\u001b[32m     13\u001b[39m   \u001b[38;5;28;01mreturn\u001b[39;00m \u001b[32m2\u001b[39m*x\n\u001b[32m---> \u001b[39m\u001b[32m15\u001b[39m x_0 = \u001b[38;5;28;43mint\u001b[39;49m\u001b[43m(\u001b[49m\u001b[38;5;28;43minput\u001b[39;49m\u001b[43m(\u001b[49m\u001b[33;43mf\u001b[39;49m\u001b[33;43m'\u001b[39;49m\u001b[33;43mEnter starting value : \u001b[39;49m\u001b[33;43m'\u001b[39;49m\u001b[43m)\u001b[49m\u001b[43m)\u001b[49m\n\u001b[32m     16\u001b[39m alpha = \u001b[38;5;28mfloat\u001b[39m(\u001b[38;5;28minput\u001b[39m(\u001b[33mf\u001b[39m\u001b[33m'\u001b[39m\u001b[33mEnter learning rate :\u001b[39m\u001b[33m'\u001b[39m))\n\u001b[32m     17\u001b[39m epsilon = \u001b[32m0.01\u001b[39m\n",
            "\u001b[31mValueError\u001b[39m: invalid literal for int() with base 10: ''"
          ]
        }
      ],
      "source": [
        "# Machine learning : Implement gradient descent for y=x^2\n",
        "\n",
        "# It is an optimization algorithm, based on a convex function, that tweaks\n",
        "# parameters iteratively to minimize a given function to its local minimum.\n",
        "# Function has to be differentiable and convex to apply gradient descent algorithm\n",
        "\n",
        "import matplotlib.pyplot as plt\n",
        "\n",
        "def quadraticfunction(x):\n",
        "  return x**2\n",
        "\n",
        "def derivativefunction(x):\n",
        "  return 2*x\n",
        "\n",
        "x_0 = int(input(f'Enter starting value : '))\n",
        "alpha = float(input(f'Enter learning rate :'))\n",
        "epsilon = 0.01\n",
        "count = 0\n",
        "x_values = []\n",
        "y_values = []\n",
        "\n",
        "while abs(derivativefunction(x_0)) > epsilon:\n",
        "  x_new = x_0 - alpha * derivativefunction(x_0)\n",
        "  fx_new = quadraticfunction(x_new)\n",
        "  print(f'{x_new},{fx_new}')\n",
        "  x_0 = x_new\n",
        "  count +=1\n",
        "  x_values.append(x_new)\n",
        "  y_values.append(fx_new)\n",
        "\n",
        "print(f\"Number of iterations : {count}\")\n",
        "print()\n",
        "\n",
        "# Plot gradient Descent path\n",
        "plt.plot(range(count), y_values, marker='*') # marker is the symbol for each coordinate\n",
        "plt.xlabel(\"Iteration\")\n",
        "plt.ylabel(\"f(x)\")\n",
        "plt.title(\"Gradient Descent Path on y = x^2\")\n",
        "plt.grid(True) # grid lines\n",
        "plt.show()"
      ]
    }
  ],
  "metadata": {
    "colab": {
      "provenance": []
    },
    "kernelspec": {
      "display_name": "Python 3 (ipykernel)",
      "language": "python",
      "name": "python3"
    },
    "language_info": {
      "codemirror_mode": {
        "name": "ipython",
        "version": 3
      },
      "file_extension": ".py",
      "mimetype": "text/x-python",
      "name": "python",
      "nbconvert_exporter": "python",
      "pygments_lexer": "ipython3",
      "version": "3.12.1"
    }
  },
  "nbformat": 4,
  "nbformat_minor": 0
}
